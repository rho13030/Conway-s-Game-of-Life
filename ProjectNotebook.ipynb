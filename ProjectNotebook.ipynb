{
 "cells": [
  {
   "cell_type": "markdown",
   "metadata": {},
   "source": [
    "# Project Description"
   ]
  },
  {
   "cell_type": "markdown",
   "metadata": {},
   "source": [
    "Welcome to the dungeon. This project is my attempt in simulating the famous Conway's Game of Life, also known simply as Life. Life is an example of cellular automaton that it a zero-player game, meaning that the changes in the state in the game is determined by its initial state,  immune to external factors. This is an example of chaos theory (I'm sure you've heard about butterfly effect), a major inspiration of this project, which states that even the slightest change in the initial state of dynamic system can result in a drastically different outcome. The initial state of the colony, which is decided by the user--the user can either pick which cells/blocks he/she wants to be alive in the first generation, or pick a random colony--will constanly change based on the rules of Life until it eventually reaches a stable equilibrium. \n",
    "\n",
    "There are many variations of the rules to this game, but the rules below have been adapted for this version:\n",
    "\n",
    "Rule I: If the cell of interest is alive:\n",
    "- Rule I.a) If there are less than 2 alive neighbors, the cell of interest dies in the next generation.\n",
    "- Rule I.b) If there are exactly 2 or 3 alive neighbors, the cell of interest is alive in the next generation.\n",
    "- Rule I.c) If there are more than 3 alive neighbors, the cell of interest dies in the next generation.\n",
    "\n",
    "Rule II: If the cell of interest is dead:\n",
    "- Rule II.a) If there are exactly 3 alive neighbors, the cell of interest is alive in the next generation.\n",
    "- Rule II.b) Otherwise, the cell of interest is dead in the next generation.\n",
    "\n",
    "As a general piece of advice, a \"good\" iteration of Life is one that prolongs for a sufficient period of time, so if you're creating a custom colony, try not to scatter the alive cells too much.\n",
    "\n",
    "At the start of this game, you're going to see a black screen. Don't worry! It's not an error. I've been kinda lazy and busy to design the menu/starting page, and I promise I will update this some time in the future. Press the key '1' to create a custom colony or press the key '2' to create a randomized colony. In the former, you must press 'enter' when you want to start the simulation. In the latter, the game automatically starts for you. To close the game, you need to close the window using your mouse, and to restart the game, you must close the game and re-enter the command. (I know, it sucks, I'll get that fixed as well :) )"
   ]
  },
  {
   "cell_type": "markdown",
   "metadata": {},
   "source": [
    "## Project Code\n",
    "\n",
    "If it makes sense for your project, you can have code and outputs here in the notebook as well."
   ]
  },
  {
   "cell_type": "code",
   "execution_count": 2,
   "metadata": {},
   "outputs": [
    {
     "name": "stdout",
     "output_type": "stream",
     "text": [
      "Collecting pygameNote: you may need to restart the kernel to use updated packages.\n",
      "\n",
      "  Downloading pygame-2.5.2-cp311-cp311-win_amd64.whl.metadata (13 kB)\n",
      "Downloading pygame-2.5.2-cp311-cp311-win_amd64.whl (10.8 MB)\n",
      "   ---------------------------------------- 0.0/10.8 MB ? eta -:--:--\n",
      "   ---------------------------------------- 0.0/10.8 MB 991.0 kB/s eta 0:00:11\n",
      "   - -------------------------------------- 0.4/10.8 MB 5.1 MB/s eta 0:00:03\n",
      "   -- ------------------------------------- 0.8/10.8 MB 6.3 MB/s eta 0:00:02\n",
      "   ----- ---------------------------------- 1.5/10.8 MB 8.5 MB/s eta 0:00:02\n",
      "   ------- -------------------------------- 2.1/10.8 MB 9.4 MB/s eta 0:00:01\n",
      "   --------- ------------------------------ 2.6/10.8 MB 9.7 MB/s eta 0:00:01\n",
      "   ----------- ---------------------------- 3.1/10.8 MB 9.8 MB/s eta 0:00:01\n",
      "   ------------- -------------------------- 3.5/10.8 MB 9.8 MB/s eta 0:00:01\n",
      "   --------------- ------------------------ 4.2/10.8 MB 10.4 MB/s eta 0:00:01\n",
      "   ------------------ --------------------- 4.9/10.8 MB 10.8 MB/s eta 0:00:01\n",
      "   ------------------- -------------------- 5.4/10.8 MB 10.7 MB/s eta 0:00:01\n",
      "   ---------------------- ----------------- 6.0/10.8 MB 10.9 MB/s eta 0:00:01\n",
      "   ------------------------ --------------- 6.6/10.8 MB 11.1 MB/s eta 0:00:01\n",
      "   --------------------------- ------------ 7.3/10.8 MB 11.3 MB/s eta 0:00:01\n",
      "   ----------------------------- ---------- 7.9/10.8 MB 11.7 MB/s eta 0:00:01\n",
      "   ------------------------------- -------- 8.6/10.8 MB 11.7 MB/s eta 0:00:01\n",
      "   ---------------------------------- ----- 9.2/10.8 MB 11.8 MB/s eta 0:00:01\n",
      "   ------------------------------------ --- 9.8/10.8 MB 11.8 MB/s eta 0:00:01\n",
      "   -------------------------------------- - 10.4/10.8 MB 12.6 MB/s eta 0:00:01\n",
      "   ---------------------------------------- 10.8/10.8 MB 12.6 MB/s eta 0:00:00\n",
      "Installing collected packages: pygame\n",
      "Successfully installed pygame-2.5.2\n"
     ]
    }
   ],
   "source": [
    "pip install pygame"
   ]
  },
  {
   "cell_type": "code",
   "execution_count": 5,
   "metadata": {},
   "outputs": [],
   "source": [
    "#no modules to import. main.py does everything for us"
   ]
  },
  {
   "cell_type": "code",
   "execution_count": 24,
   "metadata": {},
   "outputs": [
    {
     "name": "stdout",
     "output_type": "stream",
     "text": [
      "pygame 2.5.2 (SDL 2.28.3, Python 3.11.7)\n",
      "Hello from the pygame community. https://www.pygame.org/contribute.html\n"
     ]
    }
   ],
   "source": [
    "# Do a bunch of things.\n",
    "!python script_and_module/main.py"
   ]
  },
  {
   "cell_type": "code",
   "execution_count": 25,
   "metadata": {},
   "outputs": [
    {
     "name": "stdout",
     "output_type": "stream",
     "text": [
      "\u001b[1m============================= test session starts =============================\u001b[0m\n",
      "platform win32 -- Python 3.11.7, pytest-7.4.0, pluggy-1.0.0\n",
      "rootdir: C:\\Users\\rho13\\Downloads\\cogs18 final formatted submission\n",
      "plugins: anyio-4.2.0\n",
      "collected 4 items\n",
      "\n",
      "script_and_module\\my_module\\test_functions.py \u001b[32m.\u001b[0m\u001b[32m.\u001b[0m\u001b[32m.\u001b[0m\u001b[32m.\u001b[0m\u001b[33m                       [100%]\u001b[0m\n",
      "\n",
      "\u001b[33m============================== warnings summary ===============================\u001b[0m\n",
      "..\\..\\anaconda3\\Lib\\site-packages\\pygame\\pkgdata.py:25\n",
      "  C:\\Users\\rho13\\anaconda3\\Lib\\site-packages\\pygame\\pkgdata.py:25: DeprecationWarning: pkg_resources is deprecated as an API. See https://setuptools.pypa.io/en/latest/pkg_resources.html\n",
      "    from pkg_resources import resource_stream, resource_exists\n",
      "\n",
      "..\\..\\anaconda3\\Lib\\site-packages\\pkg_resources\\__init__.py:2871\n",
      "  C:\\Users\\rho13\\anaconda3\\Lib\\site-packages\\pkg_resources\\__init__.py:2871: DeprecationWarning: Deprecated call to `pkg_resources.declare_namespace('google')`.\n",
      "  Implementing implicit namespace packages (as specified in PEP 420) is preferred to `pkg_resources.declare_namespace`. See https://setuptools.pypa.io/en/latest/references/keywords.html#keyword-namespace-packages\n",
      "    declare_namespace(pkg)\n",
      "\n",
      "..\\..\\anaconda3\\Lib\\site-packages\\pkg_resources\\__init__.py:2871\n",
      "  C:\\Users\\rho13\\anaconda3\\Lib\\site-packages\\pkg_resources\\__init__.py:2871: DeprecationWarning: Deprecated call to `pkg_resources.declare_namespace('ruamel')`.\n",
      "  Implementing implicit namespace packages (as specified in PEP 420) is preferred to `pkg_resources.declare_namespace`. See https://setuptools.pypa.io/en/latest/references/keywords.html#keyword-namespace-packages\n",
      "    declare_namespace(pkg)\n",
      "\n",
      "..\\..\\anaconda3\\Lib\\site-packages\\pkg_resources\\__init__.py:2871\n",
      "..\\..\\anaconda3\\Lib\\site-packages\\pkg_resources\\__init__.py:2871\n",
      "..\\..\\anaconda3\\Lib\\site-packages\\pkg_resources\\__init__.py:2871\n",
      "..\\..\\anaconda3\\Lib\\site-packages\\pkg_resources\\__init__.py:2871\n",
      "..\\..\\anaconda3\\Lib\\site-packages\\pkg_resources\\__init__.py:2871\n",
      "..\\..\\anaconda3\\Lib\\site-packages\\pkg_resources\\__init__.py:2871\n",
      "  C:\\Users\\rho13\\anaconda3\\Lib\\site-packages\\pkg_resources\\__init__.py:2871: DeprecationWarning: Deprecated call to `pkg_resources.declare_namespace('sphinxcontrib')`.\n",
      "  Implementing implicit namespace packages (as specified in PEP 420) is preferred to `pkg_resources.declare_namespace`. See https://setuptools.pypa.io/en/latest/references/keywords.html#keyword-namespace-packages\n",
      "    declare_namespace(pkg)\n",
      "\n",
      "..\\..\\anaconda3\\Lib\\site-packages\\pkg_resources\\__init__.py:2871\n",
      "  C:\\Users\\rho13\\anaconda3\\Lib\\site-packages\\pkg_resources\\__init__.py:2871: DeprecationWarning: Deprecated call to `pkg_resources.declare_namespace('zope')`.\n",
      "  Implementing implicit namespace packages (as specified in PEP 420) is preferred to `pkg_resources.declare_namespace`. See https://setuptools.pypa.io/en/latest/references/keywords.html#keyword-namespace-packages\n",
      "    declare_namespace(pkg)\n",
      "\n",
      "-- Docs: https://docs.pytest.org/en/stable/how-to/capture-warnings.html\n",
      "\u001b[33m======================= \u001b[32m4 passed\u001b[0m, \u001b[33m\u001b[1m10 warnings\u001b[0m\u001b[33m in 0.37s\u001b[0m\u001b[33m ========================\u001b[0m\n"
     ]
    }
   ],
   "source": [
    "# test it out\n",
    "!pytest"
   ]
  },
  {
   "cell_type": "markdown",
   "metadata": {},
   "source": [
    "#### Extra Credit (*optional*)\n",
    "\n",
    "I had no Python Background coming into this class. I had taken cse11 in the quarter before, but transitioning suddenly from Java to Python was a big challenge to me, because I had to modify my Java-habits of placing semi-colons at the end of each statement, declaring the data type of the variable before using it, etc. I am a fan of chaos theory and the popular butterfly effect, and my goal was to simulate chaos to an extent that encapsulates the key ideas of it. A challenge was interacting with the GUI, which I learned and used pygame for. Pygame is a library out-of-scope of this class, and I definitely had to experiment with it locally with simple programs before implementing it into my final project. However, the main challenge was creating a cohesive project where the classes and functions I create interact in an elegant manner. This was very different and significantly more difficult than doing PAs because I had to start from absolute scratch and come up with everything on my own, and I cannot stress how painstaking it was. Further, I've gone beyond the minimum requirements for the number of unique functions/methods and unit tests for functions and really stretched myself to go to the next level."
   ]
  }
 ],
 "metadata": {
  "kernelspec": {
   "display_name": "Python 3 (ipykernel)",
   "language": "python",
   "name": "python3"
  },
  "language_info": {
   "codemirror_mode": {
    "name": "ipython",
    "version": 3
   },
   "file_extension": ".py",
   "mimetype": "text/x-python",
   "name": "python",
   "nbconvert_exporter": "python",
   "pygments_lexer": "ipython3",
   "version": "3.11.7"
  }
 },
 "nbformat": 4,
 "nbformat_minor": 4
}
